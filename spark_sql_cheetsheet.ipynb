{
 "cells": [
  {
   "attachments": {},
   "cell_type": "markdown",
   "metadata": {},
   "source": [
    "# DDL "
   ]
  },
  {
   "cell_type": "code",
   "execution_count": null,
   "metadata": {},
   "outputs": [],
   "source": [
    "```sql\n",
    "CREATE DATABASE IF NOT EXITST database_name \n",
    "```\n",
    "\n",
    "\n",
    "```sql\n",
    "USE database_name \n",
    "```\n",
    "\n",
    "\n",
    "```sql\n",
    "DROP TABLE IF EXISTS table_name \n",
    "CREATE TABLE table_name USING CSV\n",
    "OPTIONS (\n",
    "    path='/path/to/csv/file', \n",
    "    header='true', \n",
    "    inferSchema='true'\n",
    ")\n",
    "SELECT * FROM table_name LIMIT 5; \n",
    "```\n",
    "\n",
    "\n",
    "\n",
    "```sql\n",
    "DROP TABLE IF EXISTS table_name \n",
    "CREATE TABLE table_name (\n",
    "    col_1 [SCHEMA_1], \n",
    "    col_2 [SCHEMA_2]\n",
    ")\n",
    "USING CSV\n",
    "OPTIONS (\n",
    "    path='path/to/file/name', \n",
    "    header='false', \n",
    "    inferSchema='false'\n",
    ")\n",
    "SELECT * FROM table_name LIMIT 5;\n",
    "```"
   ]
  },
  {
   "attachments": {},
   "cell_type": "markdown",
   "metadata": {},
   "source": [
    "# Partitions "
   ]
  },
  {
   "attachments": {},
   "cell_type": "markdown",
   "metadata": {},
   "source": [
    "# Explode "
   ]
  },
  {
   "attachments": {},
   "cell_type": "markdown",
   "metadata": {},
   "source": [
    "find other from course "
   ]
  },
  {
   "cell_type": "markdown",
   "metadata": {},
   "source": []
  },
  {
   "cell_type": "markdown",
   "metadata": {},
   "source": []
  }
 ],
 "metadata": {
  "language_info": {
   "name": "python"
  },
  "orig_nbformat": 4
 },
 "nbformat": 4,
 "nbformat_minor": 2
}
