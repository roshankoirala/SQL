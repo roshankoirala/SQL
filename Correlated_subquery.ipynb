{
 "cells": [
  {
   "cell_type": "code",
   "execution_count": 1,
   "id": "9eecb41f",
   "metadata": {},
   "outputs": [],
   "source": [
    "%load_ext sql"
   ]
  },
  {
   "cell_type": "code",
   "execution_count": 2,
   "id": "8947b99f",
   "metadata": {},
   "outputs": [],
   "source": [
    "%sql sqlite:///chinook.db"
   ]
  },
  {
   "cell_type": "markdown",
   "id": "9a8e24c6",
   "metadata": {},
   "source": [
    "# Longest song in each genre "
   ]
  },
  {
   "cell_type": "code",
   "execution_count": 9,
   "id": "7f1df1d0",
   "metadata": {},
   "outputs": [
    {
     "name": "stdout",
     "output_type": "stream",
     "text": [
      " * sqlite:///chinook.db\n",
      "Done.\n"
     ]
    },
    {
     "data": {
      "text/html": [
       "<table>\n",
       "    <tr>\n",
       "        <th>GenreId</th>\n",
       "        <th>TrackId</th>\n",
       "        <th>Milliseconds</th>\n",
       "    </tr>\n",
       "    <tr>\n",
       "        <td>5</td>\n",
       "        <td>118</td>\n",
       "        <td>163265</td>\n",
       "    </tr>\n",
       "    <tr>\n",
       "        <td>25</td>\n",
       "        <td>3451</td>\n",
       "        <td>174813</td>\n",
       "    </tr>\n",
       "    <tr>\n",
       "        <td>12</td>\n",
       "        <td>1054</td>\n",
       "        <td>292075</td>\n",
       "    </tr>\n",
       "    <tr>\n",
       "        <td>16</td>\n",
       "        <td>3354</td>\n",
       "        <td>300605</td>\n",
       "    </tr>\n",
       "    <tr>\n",
       "        <td>8</td>\n",
       "        <td>2228</td>\n",
       "        <td>366733</td>\n",
       "    </tr>\n",
       "</table>"
      ],
      "text/plain": [
       "[(5, 118, 163265),\n",
       " (25, 3451, 174813),\n",
       " (12, 1054, 292075),\n",
       " (16, 3354, 300605),\n",
       " (8, 2228, 366733)]"
      ]
     },
     "execution_count": 9,
     "metadata": {},
     "output_type": "execute_result"
    }
   ],
   "source": [
    "%%sql\n",
    "SELECT t.genreid, t.trackid, t.milliseconds\n",
    "FROM tracks AS t \n",
    "WHERE milliseconds = (\n",
    "    SELECT MAX(milliseconds)\n",
    "    FROM tracks AS g \n",
    "    WHERE t.genreid = g.genreid \n",
    ")\n",
    "ORDER BY t.milliseconds\n",
    "LIMIT 5"
   ]
  },
  {
   "cell_type": "code",
   "execution_count": 10,
   "id": "82c92100",
   "metadata": {},
   "outputs": [
    {
     "name": "stdout",
     "output_type": "stream",
     "text": [
      " * sqlite:///chinook.db\n",
      "Done.\n"
     ]
    },
    {
     "data": {
      "text/html": [
       "<table>\n",
       "    <tr>\n",
       "        <th>GenreId</th>\n",
       "        <th>TrackId</th>\n",
       "        <th>MAX(milliseconds)</th>\n",
       "    </tr>\n",
       "    <tr>\n",
       "        <td>5</td>\n",
       "        <td>118</td>\n",
       "        <td>163265</td>\n",
       "    </tr>\n",
       "    <tr>\n",
       "        <td>25</td>\n",
       "        <td>3451</td>\n",
       "        <td>174813</td>\n",
       "    </tr>\n",
       "    <tr>\n",
       "        <td>12</td>\n",
       "        <td>1054</td>\n",
       "        <td>292075</td>\n",
       "    </tr>\n",
       "    <tr>\n",
       "        <td>16</td>\n",
       "        <td>3354</td>\n",
       "        <td>300605</td>\n",
       "    </tr>\n",
       "    <tr>\n",
       "        <td>8</td>\n",
       "        <td>2228</td>\n",
       "        <td>366733</td>\n",
       "    </tr>\n",
       "</table>"
      ],
      "text/plain": [
       "[(5, 118, 163265),\n",
       " (25, 3451, 174813),\n",
       " (12, 1054, 292075),\n",
       " (16, 3354, 300605),\n",
       " (8, 2228, 366733)]"
      ]
     },
     "execution_count": 10,
     "metadata": {},
     "output_type": "execute_result"
    }
   ],
   "source": [
    "%%sql\n",
    "SELECT genreid, trackid, MAX(milliseconds)\n",
    "FROM tracks\n",
    "GROUP BY genreid \n",
    "ORDER BY milliseconds \n",
    "LIMIT 5"
   ]
  },
  {
   "cell_type": "markdown",
   "id": "435321db",
   "metadata": {},
   "source": [
    "# Track with composer missing "
   ]
  },
  {
   "cell_type": "code",
   "execution_count": 35,
   "id": "c2ae3d6f",
   "metadata": {},
   "outputs": [
    {
     "name": "stdout",
     "output_type": "stream",
     "text": [
      " * sqlite:///chinook.db\n",
      "Done.\n"
     ]
    },
    {
     "data": {
      "text/html": [
       "<table>\n",
       "    <tr>\n",
       "        <th>TrackId</th>\n",
       "    </tr>\n",
       "    <tr>\n",
       "        <td>168</td>\n",
       "    </tr>\n",
       "    <tr>\n",
       "        <td>170</td>\n",
       "    </tr>\n",
       "    <tr>\n",
       "        <td>178</td>\n",
       "    </tr>\n",
       "    <tr>\n",
       "        <td>172</td>\n",
       "    </tr>\n",
       "    <tr>\n",
       "        <td>2241</td>\n",
       "    </tr>\n",
       "</table>"
      ],
      "text/plain": [
       "[(168,), (170,), (178,), (172,), (2241,)]"
      ]
     },
     "execution_count": 35,
     "metadata": {},
     "output_type": "execute_result"
    }
   ],
   "source": [
    "%%sql\n",
    "SELECT t.trackid \n",
    "FROM tracks AS t \n",
    "WHERE NOT EXISTS(\n",
    "    SELECT *\n",
    "    FROM tracks AS c \n",
    "    WHERE t.composer = c.composer \n",
    ")\n",
    "ORDER BY milliseconds ASC\n",
    "LIMIT 5"
   ]
  },
  {
   "cell_type": "code",
   "execution_count": 12,
   "id": "5acfc203",
   "metadata": {},
   "outputs": [
    {
     "name": "stdout",
     "output_type": "stream",
     "text": [
      " * sqlite:///chinook.db\n",
      "Done.\n"
     ]
    },
    {
     "data": {
      "text/html": [
       "<table>\n",
       "    <tr>\n",
       "        <th>TrackId</th>\n",
       "    </tr>\n",
       "    <tr>\n",
       "        <td>168</td>\n",
       "    </tr>\n",
       "    <tr>\n",
       "        <td>170</td>\n",
       "    </tr>\n",
       "    <tr>\n",
       "        <td>178</td>\n",
       "    </tr>\n",
       "    <tr>\n",
       "        <td>172</td>\n",
       "    </tr>\n",
       "    <tr>\n",
       "        <td>2241</td>\n",
       "    </tr>\n",
       "</table>"
      ],
      "text/plain": [
       "[(168,), (170,), (178,), (172,), (2241,)]"
      ]
     },
     "execution_count": 12,
     "metadata": {},
     "output_type": "execute_result"
    }
   ],
   "source": [
    "%%sql\n",
    "SELECT trackid\n",
    "FROM tracks \n",
    "WHERE composer IS NULL\n",
    "ORDER BY milliseconds ASC \n",
    "LIMIT 5"
   ]
  },
  {
   "cell_type": "markdown",
   "id": "adc53e05",
   "metadata": {},
   "source": [
    "# Write employee and their boss "
   ]
  },
  {
   "cell_type": "code",
   "execution_count": 90,
   "id": "17c968a9",
   "metadata": {},
   "outputs": [
    {
     "name": "stdout",
     "output_type": "stream",
     "text": [
      " * sqlite:///chinook.db\n",
      "Done.\n"
     ]
    },
    {
     "data": {
      "text/html": [
       "<table>\n",
       "    <tr>\n",
       "        <th>employee</th>\n",
       "        <th>boss</th>\n",
       "    </tr>\n",
       "    <tr>\n",
       "        <td>Andrew</td>\n",
       "        <td>None</td>\n",
       "    </tr>\n",
       "    <tr>\n",
       "        <td>Nancy</td>\n",
       "        <td>Andrew</td>\n",
       "    </tr>\n",
       "    <tr>\n",
       "        <td>Jane</td>\n",
       "        <td>Nancy</td>\n",
       "    </tr>\n",
       "    <tr>\n",
       "        <td>Margaret</td>\n",
       "        <td>Nancy</td>\n",
       "    </tr>\n",
       "    <tr>\n",
       "        <td>Steve</td>\n",
       "        <td>Nancy</td>\n",
       "    </tr>\n",
       "    <tr>\n",
       "        <td>Michael</td>\n",
       "        <td>Andrew</td>\n",
       "    </tr>\n",
       "    <tr>\n",
       "        <td>Robert</td>\n",
       "        <td>Michael</td>\n",
       "    </tr>\n",
       "    <tr>\n",
       "        <td>Laura</td>\n",
       "        <td>Michael</td>\n",
       "    </tr>\n",
       "</table>"
      ],
      "text/plain": [
       "[('Andrew', None),\n",
       " ('Nancy', 'Andrew'),\n",
       " ('Jane', 'Nancy'),\n",
       " ('Margaret', 'Nancy'),\n",
       " ('Steve', 'Nancy'),\n",
       " ('Michael', 'Andrew'),\n",
       " ('Robert', 'Michael'),\n",
       " ('Laura', 'Michael')]"
      ]
     },
     "execution_count": 90,
     "metadata": {},
     "output_type": "execute_result"
    }
   ],
   "source": [
    "%%sql\n",
    "SELECT e.firstname AS employee\n",
    ", (\n",
    "    SELECT b.firstname\n",
    "    FROM employees AS b \n",
    "    WHERE e.reportsto = b.employeeid \n",
    ") AS boss\n",
    "FROM employees AS e;"
   ]
  },
  {
   "cell_type": "code",
   "execution_count": 94,
   "id": "6d2004f7",
   "metadata": {},
   "outputs": [
    {
     "name": "stdout",
     "output_type": "stream",
     "text": [
      " * sqlite:///chinook.db\n",
      "Done.\n"
     ]
    },
    {
     "data": {
      "text/html": [
       "<table>\n",
       "    <tr>\n",
       "        <th>employee</th>\n",
       "        <th>boss</th>\n",
       "    </tr>\n",
       "    <tr>\n",
       "        <td>Andrew</td>\n",
       "        <td>None</td>\n",
       "    </tr>\n",
       "    <tr>\n",
       "        <td>Nancy</td>\n",
       "        <td>Andrew</td>\n",
       "    </tr>\n",
       "    <tr>\n",
       "        <td>Jane</td>\n",
       "        <td>Nancy</td>\n",
       "    </tr>\n",
       "    <tr>\n",
       "        <td>Margaret</td>\n",
       "        <td>Nancy</td>\n",
       "    </tr>\n",
       "    <tr>\n",
       "        <td>Steve</td>\n",
       "        <td>Nancy</td>\n",
       "    </tr>\n",
       "    <tr>\n",
       "        <td>Michael</td>\n",
       "        <td>Andrew</td>\n",
       "    </tr>\n",
       "    <tr>\n",
       "        <td>Robert</td>\n",
       "        <td>Michael</td>\n",
       "    </tr>\n",
       "    <tr>\n",
       "        <td>Laura</td>\n",
       "        <td>Michael</td>\n",
       "    </tr>\n",
       "</table>"
      ],
      "text/plain": [
       "[('Andrew', None),\n",
       " ('Nancy', 'Andrew'),\n",
       " ('Jane', 'Nancy'),\n",
       " ('Margaret', 'Nancy'),\n",
       " ('Steve', 'Nancy'),\n",
       " ('Michael', 'Andrew'),\n",
       " ('Robert', 'Michael'),\n",
       " ('Laura', 'Michael')]"
      ]
     },
     "execution_count": 94,
     "metadata": {},
     "output_type": "execute_result"
    }
   ],
   "source": [
    "%%sql\n",
    "SELECT e.firstname AS employee\n",
    ", b.firstname AS boss\n",
    "FROM employees AS e \n",
    "LEFT JOIN employees AS b\n",
    "    ON e.reportsto = b.employeeid"
   ]
  },
  {
   "cell_type": "code",
   "execution_count": null,
   "id": "6e410de5",
   "metadata": {},
   "outputs": [],
   "source": []
  }
 ],
 "metadata": {
  "kernelspec": {
   "display_name": "Python 3 (ipykernel)",
   "language": "python",
   "name": "python3"
  },
  "language_info": {
   "codemirror_mode": {
    "name": "ipython",
    "version": 3
   },
   "file_extension": ".py",
   "mimetype": "text/x-python",
   "name": "python",
   "nbconvert_exporter": "python",
   "pygments_lexer": "ipython3",
   "version": "3.8.16"
  }
 },
 "nbformat": 4,
 "nbformat_minor": 5
}
