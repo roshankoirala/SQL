{
 "cells": [
  {
   "cell_type": "code",
   "execution_count": 1,
   "id": "d0da63bd",
   "metadata": {},
   "outputs": [],
   "source": [
    "%load_ext sql"
   ]
  },
  {
   "cell_type": "code",
   "execution_count": 2,
   "id": "1f413fa0",
   "metadata": {},
   "outputs": [],
   "source": [
    "%sql sqlite:///chinook.db"
   ]
  },
  {
   "cell_type": "markdown",
   "id": "862fbd9e",
   "metadata": {},
   "source": [
    "__List each employee's first and last name along with their boss's first and last name__"
   ]
  },
  {
   "cell_type": "code",
   "execution_count": 55,
   "id": "eb522aa6",
   "metadata": {},
   "outputs": [
    {
     "name": "stdout",
     "output_type": "stream",
     "text": [
      " * sqlite:///chinook.db\n",
      "Done.\n"
     ]
    },
    {
     "data": {
      "text/html": [
       "<table>\n",
       "    <tr>\n",
       "        <th>workers</th>\n",
       "        <th>boss</th>\n",
       "    </tr>\n",
       "    <tr>\n",
       "        <td>Andrew Adams</td>\n",
       "        <td>None</td>\n",
       "    </tr>\n",
       "    <tr>\n",
       "        <td>Nancy Edwards</td>\n",
       "        <td>Andrew Adams</td>\n",
       "    </tr>\n",
       "    <tr>\n",
       "        <td>Jane Peacock</td>\n",
       "        <td>Nancy Edwards</td>\n",
       "    </tr>\n",
       "    <tr>\n",
       "        <td>Margaret Park</td>\n",
       "        <td>Nancy Edwards</td>\n",
       "    </tr>\n",
       "    <tr>\n",
       "        <td>Steve Johnson</td>\n",
       "        <td>Nancy Edwards</td>\n",
       "    </tr>\n",
       "    <tr>\n",
       "        <td>Michael Mitchell</td>\n",
       "        <td>Andrew Adams</td>\n",
       "    </tr>\n",
       "    <tr>\n",
       "        <td>Robert King</td>\n",
       "        <td>Michael Mitchell</td>\n",
       "    </tr>\n",
       "    <tr>\n",
       "        <td>Laura Callahan</td>\n",
       "        <td>Michael Mitchell</td>\n",
       "    </tr>\n",
       "</table>"
      ],
      "text/plain": [
       "[('Andrew Adams', None),\n",
       " ('Nancy Edwards', 'Andrew Adams'),\n",
       " ('Jane Peacock', 'Nancy Edwards'),\n",
       " ('Margaret Park', 'Nancy Edwards'),\n",
       " ('Steve Johnson', 'Nancy Edwards'),\n",
       " ('Michael Mitchell', 'Andrew Adams'),\n",
       " ('Robert King', 'Michael Mitchell'),\n",
       " ('Laura Callahan', 'Michael Mitchell')]"
      ]
     },
     "execution_count": 55,
     "metadata": {},
     "output_type": "execute_result"
    }
   ],
   "source": [
    "%%sql\n",
    "SELECT e.firstname || ' ' ||  e.lastname AS workers\n",
    ", m.firstname || ' ' || m.lastname AS boss\n",
    "FROM employees AS e \n",
    "LEFT JOIN employees AS m \n",
    "    ON m.employeeid = e.reportsto "
   ]
  },
  {
   "cell_type": "markdown",
   "id": "c9de1fc5",
   "metadata": {},
   "source": [
    "__Name employee and boss who are in different city__"
   ]
  },
  {
   "cell_type": "code",
   "execution_count": 92,
   "id": "e75c45f4",
   "metadata": {},
   "outputs": [
    {
     "name": "stdout",
     "output_type": "stream",
     "text": [
      " * sqlite:///chinook.db\n",
      "Done.\n"
     ]
    },
    {
     "data": {
      "text/html": [
       "<table>\n",
       "    <tr>\n",
       "        <th>employee</th>\n",
       "        <th>boss</th>\n",
       "        <th>emp_city</th>\n",
       "        <th>boss_city</th>\n",
       "    </tr>\n",
       "    <tr>\n",
       "        <td>Nancy</td>\n",
       "        <td>Andrew</td>\n",
       "        <td>Calgary</td>\n",
       "        <td>Edmonton</td>\n",
       "    </tr>\n",
       "    <tr>\n",
       "        <td>Michael</td>\n",
       "        <td>Andrew</td>\n",
       "        <td>Calgary</td>\n",
       "        <td>Edmonton</td>\n",
       "    </tr>\n",
       "    <tr>\n",
       "        <td>Robert</td>\n",
       "        <td>Michael</td>\n",
       "        <td>Lethbridge</td>\n",
       "        <td>Calgary</td>\n",
       "    </tr>\n",
       "    <tr>\n",
       "        <td>Laura</td>\n",
       "        <td>Michael</td>\n",
       "        <td>Lethbridge</td>\n",
       "        <td>Calgary</td>\n",
       "    </tr>\n",
       "</table>"
      ],
      "text/plain": [
       "[('Nancy', 'Andrew', 'Calgary', 'Edmonton'),\n",
       " ('Michael', 'Andrew', 'Calgary', 'Edmonton'),\n",
       " ('Robert', 'Michael', 'Lethbridge', 'Calgary'),\n",
       " ('Laura', 'Michael', 'Lethbridge', 'Calgary')]"
      ]
     },
     "execution_count": 92,
     "metadata": {},
     "output_type": "execute_result"
    }
   ],
   "source": [
    "%%sql\n",
    "SELECT e.firstname AS employee \n",
    ", m.firstname AS boss \n",
    ", e.city AS emp_city \n",
    ", m.city AS boss_city\n",
    "FROM employees AS e \n",
    "JOIN employees AS m \n",
    "    ON e.reportsto = m.employeeid \n",
    "WHERE e.city <> m.city"
   ]
  },
  {
   "cell_type": "markdown",
   "id": "27c6fe12",
   "metadata": {},
   "source": [
    "__Find managers who have at least 2 employees directly reporting to them__"
   ]
  },
  {
   "cell_type": "code",
   "execution_count": 42,
   "id": "b7c7bcf2",
   "metadata": {},
   "outputs": [
    {
     "name": "stdout",
     "output_type": "stream",
     "text": [
      " * sqlite:///chinook.db\n",
      "Done.\n"
     ]
    },
    {
     "data": {
      "text/html": [
       "<table>\n",
       "    <tr>\n",
       "        <th>FirstName</th>\n",
       "        <th>LastName</th>\n",
       "    </tr>\n",
       "    <tr>\n",
       "        <td>Andrew</td>\n",
       "        <td>Adams</td>\n",
       "    </tr>\n",
       "    <tr>\n",
       "        <td>Nancy</td>\n",
       "        <td>Edwards</td>\n",
       "    </tr>\n",
       "    <tr>\n",
       "        <td>Michael</td>\n",
       "        <td>Mitchell</td>\n",
       "    </tr>\n",
       "</table>"
      ],
      "text/plain": [
       "[('Andrew', 'Adams'), ('Nancy', 'Edwards'), ('Michael', 'Mitchell')]"
      ]
     },
     "execution_count": 42,
     "metadata": {},
     "output_type": "execute_result"
    }
   ],
   "source": [
    "%%sql \n",
    "SELECT m.firstname, m.lastname \n",
    "FROM employees AS m  \n",
    "JOIN employees AS e\n",
    "    ON e.reportsto = m.employeeid\n",
    "GROUP BY e.reportsto\n",
    "HAVING COUNT(m.employeeid) >= 2"
   ]
  },
  {
   "cell_type": "markdown",
   "id": "659a7f9d",
   "metadata": {},
   "source": [
    "__Name the employee who were hired before their boss__"
   ]
  },
  {
   "cell_type": "code",
   "execution_count": 86,
   "id": "c38fa6a5",
   "metadata": {},
   "outputs": [
    {
     "name": "stdout",
     "output_type": "stream",
     "text": [
      " * sqlite:///chinook.db\n",
      "Done.\n"
     ]
    },
    {
     "data": {
      "text/html": [
       "<table>\n",
       "    <tr>\n",
       "        <th>employee</th>\n",
       "        <th>emp_hire_date</th>\n",
       "        <th>boss_hire_date</th>\n",
       "    </tr>\n",
       "    <tr>\n",
       "        <td>Nancy</td>\n",
       "        <td>2002.05</td>\n",
       "        <td>2002-08</td>\n",
       "    </tr>\n",
       "    <tr>\n",
       "        <td>Jane</td>\n",
       "        <td>2002.04</td>\n",
       "        <td>2002-05</td>\n",
       "    </tr>\n",
       "</table>"
      ],
      "text/plain": [
       "[('Nancy', '2002.05', '2002-08'), ('Jane', '2002.04', '2002-05')]"
      ]
     },
     "execution_count": 86,
     "metadata": {},
     "output_type": "execute_result"
    }
   ],
   "source": [
    "%%sql \n",
    "SELECT e.firstname AS employee \n",
    ", STRFTIME('%Y.%m', e.hiredate) AS emp_hire_date \n",
    ", STRFTIME('%Y-%m', m.hiredate) AS boss_hire_date\n",
    "FROM employees AS e\n",
    "LEFT JOIN employees AS m \n",
    "    ON e.reportsto = m.employeeid \n",
    "GROUP BY e.reportsto \n",
    "HAVING e.hiredate < m.hiredate"
   ]
  },
  {
   "cell_type": "markdown",
   "id": "15dabe69",
   "metadata": {},
   "source": [
    "__Name the employee whose at least one direct reportee is older than them__"
   ]
  },
  {
   "cell_type": "code",
   "execution_count": 73,
   "id": "7adcaab0",
   "metadata": {},
   "outputs": [
    {
     "name": "stdout",
     "output_type": "stream",
     "text": [
      " * sqlite:///chinook.db\n",
      "Done.\n"
     ]
    },
    {
     "data": {
      "text/html": [
       "<table>\n",
       "    <tr>\n",
       "        <th>boss</th>\n",
       "        <th>oldest_reportee</th>\n",
       "        <th>manager_birthdate</th>\n",
       "        <th>oldest_reportee_birthdate</th>\n",
       "    </tr>\n",
       "    <tr>\n",
       "        <td>Michael</td>\n",
       "        <td>Robert</td>\n",
       "        <td>1973</td>\n",
       "        <td>1970</td>\n",
       "    </tr>\n",
       "</table>"
      ],
      "text/plain": [
       "[('Michael', 'Robert', '1973', '1970')]"
      ]
     },
     "execution_count": 73,
     "metadata": {},
     "output_type": "execute_result"
    }
   ],
   "source": [
    "%%sql\n",
    "SELECT m.firstname AS boss\n",
    ", e.firstname AS oldest_reportee \n",
    ", STRFTIME('%Y', m.birthdate) AS manager_birthdate \n",
    ", MAX(STRFTIME('%Y', e.birthdate)) AS oldest_reportee_birthdate\n",
    "FROM employees AS m  \n",
    "JOIN employees AS e \n",
    "    ON e.reportsto = m.employeeid \n",
    "GROUP BY e.reportsto\n",
    "HAVING m.birthdate > (e.birthdate)"
   ]
  },
  {
   "cell_type": "code",
   "execution_count": null,
   "id": "320a358a",
   "metadata": {},
   "outputs": [],
   "source": []
  },
  {
   "cell_type": "code",
   "execution_count": 93,
   "id": "b7b39a92",
   "metadata": {},
   "outputs": [
    {
     "name": "stdout",
     "output_type": "stream",
     "text": [
      " * sqlite:///chinook.db\n",
      "Done.\n"
     ]
    },
    {
     "data": {
      "text/html": [
       "<table>\n",
       "    <tr>\n",
       "        <th>CustomerId</th>\n",
       "        <th>FirstName</th>\n",
       "        <th>LastName</th>\n",
       "        <th>Company</th>\n",
       "        <th>Address</th>\n",
       "        <th>City</th>\n",
       "        <th>State</th>\n",
       "        <th>Country</th>\n",
       "        <th>PostalCode</th>\n",
       "        <th>Phone</th>\n",
       "        <th>Fax</th>\n",
       "        <th>Email</th>\n",
       "        <th>SupportRepId</th>\n",
       "    </tr>\n",
       "    <tr>\n",
       "        <td>1</td>\n",
       "        <td>Luís</td>\n",
       "        <td>Gonçalves</td>\n",
       "        <td>Embraer - Empresa Brasileira de Aeronáutica S.A.</td>\n",
       "        <td>Av. Brigadeiro Faria Lima, 2170</td>\n",
       "        <td>São José dos Campos</td>\n",
       "        <td>SP</td>\n",
       "        <td>Brazil</td>\n",
       "        <td>12227-000</td>\n",
       "        <td>+55 (12) 3923-5555</td>\n",
       "        <td>+55 (12) 3923-5566</td>\n",
       "        <td>luisg@embraer.com.br</td>\n",
       "        <td>3</td>\n",
       "    </tr>\n",
       "    <tr>\n",
       "        <td>2</td>\n",
       "        <td>Leonie</td>\n",
       "        <td>Köhler</td>\n",
       "        <td>None</td>\n",
       "        <td>Theodor-Heuss-Straße 34</td>\n",
       "        <td>Stuttgart</td>\n",
       "        <td>None</td>\n",
       "        <td>Germany</td>\n",
       "        <td>70174</td>\n",
       "        <td>+49 0711 2842222</td>\n",
       "        <td>None</td>\n",
       "        <td>leonekohler@surfeu.de</td>\n",
       "        <td>5</td>\n",
       "    </tr>\n",
       "    <tr>\n",
       "        <td>3</td>\n",
       "        <td>François</td>\n",
       "        <td>Tremblay</td>\n",
       "        <td>None</td>\n",
       "        <td>1498 rue Bélanger</td>\n",
       "        <td>Montréal</td>\n",
       "        <td>QC</td>\n",
       "        <td>Canada</td>\n",
       "        <td>H2G 1A7</td>\n",
       "        <td>+1 (514) 721-4711</td>\n",
       "        <td>None</td>\n",
       "        <td>ftremblay@gmail.com</td>\n",
       "        <td>3</td>\n",
       "    </tr>\n",
       "    <tr>\n",
       "        <td>4</td>\n",
       "        <td>Bjørn</td>\n",
       "        <td>Hansen</td>\n",
       "        <td>None</td>\n",
       "        <td>Ullevålsveien 14</td>\n",
       "        <td>Oslo</td>\n",
       "        <td>None</td>\n",
       "        <td>Norway</td>\n",
       "        <td>0171</td>\n",
       "        <td>+47 22 44 22 22</td>\n",
       "        <td>None</td>\n",
       "        <td>bjorn.hansen@yahoo.no</td>\n",
       "        <td>4</td>\n",
       "    </tr>\n",
       "    <tr>\n",
       "        <td>5</td>\n",
       "        <td>František</td>\n",
       "        <td>Wichterlová</td>\n",
       "        <td>JetBrains s.r.o.</td>\n",
       "        <td>Klanova 9/506</td>\n",
       "        <td>Prague</td>\n",
       "        <td>None</td>\n",
       "        <td>Czech Republic</td>\n",
       "        <td>14700</td>\n",
       "        <td>+420 2 4172 5555</td>\n",
       "        <td>+420 2 4172 5555</td>\n",
       "        <td>frantisekw@jetbrains.com</td>\n",
       "        <td>4</td>\n",
       "    </tr>\n",
       "    <tr>\n",
       "        <td>6</td>\n",
       "        <td>Helena</td>\n",
       "        <td>Holý</td>\n",
       "        <td>None</td>\n",
       "        <td>Rilská 3174/6</td>\n",
       "        <td>Prague</td>\n",
       "        <td>None</td>\n",
       "        <td>Czech Republic</td>\n",
       "        <td>14300</td>\n",
       "        <td>+420 2 4177 0449</td>\n",
       "        <td>None</td>\n",
       "        <td>hholy@gmail.com</td>\n",
       "        <td>5</td>\n",
       "    </tr>\n",
       "    <tr>\n",
       "        <td>7</td>\n",
       "        <td>Astrid</td>\n",
       "        <td>Gruber</td>\n",
       "        <td>None</td>\n",
       "        <td>Rotenturmstraße 4, 1010 Innere Stadt</td>\n",
       "        <td>Vienne</td>\n",
       "        <td>None</td>\n",
       "        <td>Austria</td>\n",
       "        <td>1010</td>\n",
       "        <td>+43 01 5134505</td>\n",
       "        <td>None</td>\n",
       "        <td>astrid.gruber@apple.at</td>\n",
       "        <td>5</td>\n",
       "    </tr>\n",
       "    <tr>\n",
       "        <td>8</td>\n",
       "        <td>Daan</td>\n",
       "        <td>Peeters</td>\n",
       "        <td>None</td>\n",
       "        <td>Grétrystraat 63</td>\n",
       "        <td>Brussels</td>\n",
       "        <td>None</td>\n",
       "        <td>Belgium</td>\n",
       "        <td>1000</td>\n",
       "        <td>+32 02 219 03 03</td>\n",
       "        <td>None</td>\n",
       "        <td>daan_peeters@apple.be</td>\n",
       "        <td>4</td>\n",
       "    </tr>\n",
       "    <tr>\n",
       "        <td>9</td>\n",
       "        <td>Kara</td>\n",
       "        <td>Nielsen</td>\n",
       "        <td>None</td>\n",
       "        <td>Sønder Boulevard 51</td>\n",
       "        <td>Copenhagen</td>\n",
       "        <td>None</td>\n",
       "        <td>Denmark</td>\n",
       "        <td>1720</td>\n",
       "        <td>+453 3331 9991</td>\n",
       "        <td>None</td>\n",
       "        <td>kara.nielsen@jubii.dk</td>\n",
       "        <td>4</td>\n",
       "    </tr>\n",
       "    <tr>\n",
       "        <td>10</td>\n",
       "        <td>Eduardo</td>\n",
       "        <td>Martins</td>\n",
       "        <td>Woodstock Discos</td>\n",
       "        <td>Rua Dr. Falcão Filho, 155</td>\n",
       "        <td>São Paulo</td>\n",
       "        <td>SP</td>\n",
       "        <td>Brazil</td>\n",
       "        <td>01007-010</td>\n",
       "        <td>+55 (11) 3033-5446</td>\n",
       "        <td>+55 (11) 3033-4564</td>\n",
       "        <td>eduardo@woodstock.com.br</td>\n",
       "        <td>4</td>\n",
       "    </tr>\n",
       "</table>"
      ],
      "text/plain": [
       "[(1, 'Luís', 'Gonçalves', 'Embraer - Empresa Brasileira de Aeronáutica S.A.', 'Av. Brigadeiro Faria Lima, 2170', 'São José dos Campos', 'SP', 'Brazil', '12227-000', '+55 (12) 3923-5555', '+55 (12) 3923-5566', 'luisg@embraer.com.br', 3),\n",
       " (2, 'Leonie', 'Köhler', None, 'Theodor-Heuss-Straße 34', 'Stuttgart', None, 'Germany', '70174', '+49 0711 2842222', None, 'leonekohler@surfeu.de', 5),\n",
       " (3, 'François', 'Tremblay', None, '1498 rue Bélanger', 'Montréal', 'QC', 'Canada', 'H2G 1A7', '+1 (514) 721-4711', None, 'ftremblay@gmail.com', 3),\n",
       " (4, 'Bjørn', 'Hansen', None, 'Ullevålsveien 14', 'Oslo', None, 'Norway', '0171', '+47 22 44 22 22', None, 'bjorn.hansen@yahoo.no', 4),\n",
       " (5, 'František', 'Wichterlová', 'JetBrains s.r.o.', 'Klanova 9/506', 'Prague', None, 'Czech Republic', '14700', '+420 2 4172 5555', '+420 2 4172 5555', 'frantisekw@jetbrains.com', 4),\n",
       " (6, 'Helena', 'Holý', None, 'Rilská 3174/6', 'Prague', None, 'Czech Republic', '14300', '+420 2 4177 0449', None, 'hholy@gmail.com', 5),\n",
       " (7, 'Astrid', 'Gruber', None, 'Rotenturmstraße 4, 1010 Innere Stadt', 'Vienne', None, 'Austria', '1010', '+43 01 5134505', None, 'astrid.gruber@apple.at', 5),\n",
       " (8, 'Daan', 'Peeters', None, 'Grétrystraat 63', 'Brussels', None, 'Belgium', '1000', '+32 02 219 03 03', None, 'daan_peeters@apple.be', 4),\n",
       " (9, 'Kara', 'Nielsen', None, 'Sønder Boulevard 51', 'Copenhagen', None, 'Denmark', '1720', '+453 3331 9991', None, 'kara.nielsen@jubii.dk', 4),\n",
       " (10, 'Eduardo', 'Martins', 'Woodstock Discos', 'Rua Dr. Falcão Filho, 155', 'São Paulo', 'SP', 'Brazil', '01007-010', '+55 (11) 3033-5446', '+55 (11) 3033-4564', 'eduardo@woodstock.com.br', 4)]"
      ]
     },
     "execution_count": 93,
     "metadata": {},
     "output_type": "execute_result"
    }
   ],
   "source": [
    "%%sql\n",
    "select * from customers limit 10"
   ]
  },
  {
   "cell_type": "markdown",
   "id": "589ea3a6",
   "metadata": {},
   "source": [
    "__Write the manager name and total number of customer supported by their direct report__"
   ]
  },
  {
   "cell_type": "code",
   "execution_count": 94,
   "id": "6c279ff3",
   "metadata": {},
   "outputs": [
    {
     "name": "stdout",
     "output_type": "stream",
     "text": [
      " * sqlite:///chinook.db\n",
      "Done.\n"
     ]
    },
    {
     "data": {
      "text/html": [
       "<table>\n",
       "    <tr>\n",
       "        <th>boss</th>\n",
       "        <th>COUNT(c.customerid)</th>\n",
       "    </tr>\n",
       "    <tr>\n",
       "        <td>Nancy</td>\n",
       "        <td>59</td>\n",
       "    </tr>\n",
       "</table>"
      ],
      "text/plain": [
       "[('Nancy', 59)]"
      ]
     },
     "execution_count": 94,
     "metadata": {},
     "output_type": "execute_result"
    }
   ],
   "source": [
    "%%sql\n",
    "SELECT m.firstname AS boss \n",
    ", COUNT(c.customerid)\n",
    "FROM employees AS e \n",
    "JOIN employees AS m \n",
    "    ON e.reportsto = m.employeeid \n",
    "JOIN customers AS c \n",
    "    ON c.supportrepid = e.employeeid \n",
    "GROUP BY e.reportsto "
   ]
  },
  {
   "cell_type": "markdown",
   "id": "f9247bfd",
   "metadata": {},
   "source": [
    "__Show that only Nancy's direct reports deal with customers__"
   ]
  },
  {
   "cell_type": "code",
   "execution_count": 97,
   "id": "a44bc60c",
   "metadata": {},
   "outputs": [
    {
     "name": "stdout",
     "output_type": "stream",
     "text": [
      " * sqlite:///chinook.db\n",
      "Done.\n"
     ]
    },
    {
     "data": {
      "text/html": [
       "<table>\n",
       "    <tr>\n",
       "        <th>FirstName</th>\n",
       "    </tr>\n",
       "    <tr>\n",
       "        <td>Nancy</td>\n",
       "    </tr>\n",
       "</table>"
      ],
      "text/plain": [
       "[('Nancy',)]"
      ]
     },
     "execution_count": 97,
     "metadata": {},
     "output_type": "execute_result"
    }
   ],
   "source": [
    "%%sql\n",
    "SELECT DISTINCT m.firstname\n",
    "FROM employees AS e \n",
    "JOIN employees AS m \n",
    "    ON e.reportsto = m.employeeid \n",
    "WHERE e.employeeid IN (\n",
    "    SELECT DISTINCT supportrepid FROM customers\n",
    ")"
   ]
  },
  {
   "cell_type": "code",
   "execution_count": null,
   "id": "6b6f4f5a",
   "metadata": {},
   "outputs": [],
   "source": []
  }
 ],
 "metadata": {
  "kernelspec": {
   "display_name": "Python 3 (ipykernel)",
   "language": "python",
   "name": "python3"
  },
  "language_info": {
   "codemirror_mode": {
    "name": "ipython",
    "version": 3
   },
   "file_extension": ".py",
   "mimetype": "text/x-python",
   "name": "python",
   "nbconvert_exporter": "python",
   "pygments_lexer": "ipython3",
   "version": "3.8.16"
  }
 },
 "nbformat": 4,
 "nbformat_minor": 5
}
