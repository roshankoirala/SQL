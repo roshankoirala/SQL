{
 "cells": [
  {
   "cell_type": "code",
   "execution_count": 1,
   "id": "d0da63bd",
   "metadata": {},
   "outputs": [],
   "source": [
    "%load_ext sql"
   ]
  },
  {
   "cell_type": "code",
   "execution_count": 2,
   "id": "1f413fa0",
   "metadata": {},
   "outputs": [],
   "source": [
    "%sql sqlite:///chinook.db"
   ]
  },
  {
   "cell_type": "markdown",
   "id": "862fbd9e",
   "metadata": {},
   "source": [
    "__List each employee's first and last name along with their boss's first and last name__"
   ]
  },
  {
   "cell_type": "code",
   "execution_count": 55,
   "id": "eb522aa6",
   "metadata": {},
   "outputs": [
    {
     "name": "stdout",
     "output_type": "stream",
     "text": [
      " * sqlite:///chinook.db\n",
      "Done.\n"
     ]
    },
    {
     "data": {
      "text/html": [
       "<table>\n",
       "    <tr>\n",
       "        <th>workers</th>\n",
       "        <th>boss</th>\n",
       "    </tr>\n",
       "    <tr>\n",
       "        <td>Andrew Adams</td>\n",
       "        <td>None</td>\n",
       "    </tr>\n",
       "    <tr>\n",
       "        <td>Nancy Edwards</td>\n",
       "        <td>Andrew Adams</td>\n",
       "    </tr>\n",
       "    <tr>\n",
       "        <td>Jane Peacock</td>\n",
       "        <td>Nancy Edwards</td>\n",
       "    </tr>\n",
       "    <tr>\n",
       "        <td>Margaret Park</td>\n",
       "        <td>Nancy Edwards</td>\n",
       "    </tr>\n",
       "    <tr>\n",
       "        <td>Steve Johnson</td>\n",
       "        <td>Nancy Edwards</td>\n",
       "    </tr>\n",
       "    <tr>\n",
       "        <td>Michael Mitchell</td>\n",
       "        <td>Andrew Adams</td>\n",
       "    </tr>\n",
       "    <tr>\n",
       "        <td>Robert King</td>\n",
       "        <td>Michael Mitchell</td>\n",
       "    </tr>\n",
       "    <tr>\n",
       "        <td>Laura Callahan</td>\n",
       "        <td>Michael Mitchell</td>\n",
       "    </tr>\n",
       "</table>"
      ],
      "text/plain": [
       "[('Andrew Adams', None),\n",
       " ('Nancy Edwards', 'Andrew Adams'),\n",
       " ('Jane Peacock', 'Nancy Edwards'),\n",
       " ('Margaret Park', 'Nancy Edwards'),\n",
       " ('Steve Johnson', 'Nancy Edwards'),\n",
       " ('Michael Mitchell', 'Andrew Adams'),\n",
       " ('Robert King', 'Michael Mitchell'),\n",
       " ('Laura Callahan', 'Michael Mitchell')]"
      ]
     },
     "execution_count": 55,
     "metadata": {},
     "output_type": "execute_result"
    }
   ],
   "source": [
    "%%sql\n",
    "SELECT e.firstname || ' ' ||  e.lastname AS workers\n",
    ", m.firstname || ' ' || m.lastname AS boss\n",
    "FROM employees AS e \n",
    "LEFT JOIN employees AS m \n",
    "    ON m.employeeid = e.reportsto "
   ]
  },
  {
   "cell_type": "markdown",
   "id": "c9de1fc5",
   "metadata": {},
   "source": [
    "__Name employee and boss who are in different city__"
   ]
  },
  {
   "cell_type": "code",
   "execution_count": 92,
   "id": "e75c45f4",
   "metadata": {},
   "outputs": [
    {
     "name": "stdout",
     "output_type": "stream",
     "text": [
      " * sqlite:///chinook.db\n",
      "Done.\n"
     ]
    },
    {
     "data": {
      "text/html": [
       "<table>\n",
       "    <tr>\n",
       "        <th>employee</th>\n",
       "        <th>boss</th>\n",
       "        <th>emp_city</th>\n",
       "        <th>boss_city</th>\n",
       "    </tr>\n",
       "    <tr>\n",
       "        <td>Nancy</td>\n",
       "        <td>Andrew</td>\n",
       "        <td>Calgary</td>\n",
       "        <td>Edmonton</td>\n",
       "    </tr>\n",
       "    <tr>\n",
       "        <td>Michael</td>\n",
       "        <td>Andrew</td>\n",
       "        <td>Calgary</td>\n",
       "        <td>Edmonton</td>\n",
       "    </tr>\n",
       "    <tr>\n",
       "        <td>Robert</td>\n",
       "        <td>Michael</td>\n",
       "        <td>Lethbridge</td>\n",
       "        <td>Calgary</td>\n",
       "    </tr>\n",
       "    <tr>\n",
       "        <td>Laura</td>\n",
       "        <td>Michael</td>\n",
       "        <td>Lethbridge</td>\n",
       "        <td>Calgary</td>\n",
       "    </tr>\n",
       "</table>"
      ],
      "text/plain": [
       "[('Nancy', 'Andrew', 'Calgary', 'Edmonton'),\n",
       " ('Michael', 'Andrew', 'Calgary', 'Edmonton'),\n",
       " ('Robert', 'Michael', 'Lethbridge', 'Calgary'),\n",
       " ('Laura', 'Michael', 'Lethbridge', 'Calgary')]"
      ]
     },
     "execution_count": 92,
     "metadata": {},
     "output_type": "execute_result"
    }
   ],
   "source": [
    "%%sql\n",
    "SELECT e.firstname AS employee \n",
    ", m.firstname AS boss \n",
    ", e.city AS emp_city \n",
    ", m.city AS boss_city\n",
    "FROM employees AS e \n",
    "JOIN employees AS m \n",
    "    ON e.reportsto = m.employeeid \n",
    "WHERE e.city <> m.city"
   ]
  },
  {
   "cell_type": "markdown",
   "id": "27c6fe12",
   "metadata": {},
   "source": [
    "__Find managers who have at least 2 employees directly reporting to them__"
   ]
  },
  {
   "cell_type": "code",
   "execution_count": 42,
   "id": "b7c7bcf2",
   "metadata": {},
   "outputs": [
    {
     "name": "stdout",
     "output_type": "stream",
     "text": [
      " * sqlite:///chinook.db\n",
      "Done.\n"
     ]
    },
    {
     "data": {
      "text/html": [
       "<table>\n",
       "    <tr>\n",
       "        <th>FirstName</th>\n",
       "        <th>LastName</th>\n",
       "    </tr>\n",
       "    <tr>\n",
       "        <td>Andrew</td>\n",
       "        <td>Adams</td>\n",
       "    </tr>\n",
       "    <tr>\n",
       "        <td>Nancy</td>\n",
       "        <td>Edwards</td>\n",
       "    </tr>\n",
       "    <tr>\n",
       "        <td>Michael</td>\n",
       "        <td>Mitchell</td>\n",
       "    </tr>\n",
       "</table>"
      ],
      "text/plain": [
       "[('Andrew', 'Adams'), ('Nancy', 'Edwards'), ('Michael', 'Mitchell')]"
      ]
     },
     "execution_count": 42,
     "metadata": {},
     "output_type": "execute_result"
    }
   ],
   "source": [
    "%%sql \n",
    "SELECT m.firstname, m.lastname \n",
    "FROM employees AS m  \n",
    "JOIN employees AS e\n",
    "    ON e.reportsto = m.employeeid\n",
    "GROUP BY e.reportsto\n",
    "HAVING COUNT(m.employeeid) >= 2"
   ]
  },
  {
   "cell_type": "markdown",
   "id": "659a7f9d",
   "metadata": {},
   "source": [
    "__Name the employee who were hired before their boss__"
   ]
  },
  {
   "cell_type": "code",
   "execution_count": 86,
   "id": "c38fa6a5",
   "metadata": {},
   "outputs": [
    {
     "name": "stdout",
     "output_type": "stream",
     "text": [
      " * sqlite:///chinook.db\n",
      "Done.\n"
     ]
    },
    {
     "data": {
      "text/html": [
       "<table>\n",
       "    <tr>\n",
       "        <th>employee</th>\n",
       "        <th>emp_hire_date</th>\n",
       "        <th>boss_hire_date</th>\n",
       "    </tr>\n",
       "    <tr>\n",
       "        <td>Nancy</td>\n",
       "        <td>2002.05</td>\n",
       "        <td>2002-08</td>\n",
       "    </tr>\n",
       "    <tr>\n",
       "        <td>Jane</td>\n",
       "        <td>2002.04</td>\n",
       "        <td>2002-05</td>\n",
       "    </tr>\n",
       "</table>"
      ],
      "text/plain": [
       "[('Nancy', '2002.05', '2002-08'), ('Jane', '2002.04', '2002-05')]"
      ]
     },
     "execution_count": 86,
     "metadata": {},
     "output_type": "execute_result"
    }
   ],
   "source": [
    "%%sql \n",
    "SELECT e.firstname AS employee \n",
    ", STRFTIME('%Y.%m', e.hiredate) AS emp_hire_date \n",
    ", STRFTIME('%Y-%m', m.hiredate) AS boss_hire_date\n",
    "FROM employees AS e\n",
    "LEFT JOIN employees AS m \n",
    "    ON e.reportsto = m.employeeid \n",
    "GROUP BY e.reportsto \n",
    "HAVING e.hiredate < m.hiredate"
   ]
  },
  {
   "cell_type": "markdown",
   "id": "15dabe69",
   "metadata": {},
   "source": [
    "__Name the employee whose at least one direct reportee is older than them__"
   ]
  },
  {
   "cell_type": "code",
   "execution_count": 73,
   "id": "7adcaab0",
   "metadata": {},
   "outputs": [
    {
     "name": "stdout",
     "output_type": "stream",
     "text": [
      " * sqlite:///chinook.db\n",
      "Done.\n"
     ]
    },
    {
     "data": {
      "text/html": [
       "<table>\n",
       "    <tr>\n",
       "        <th>boss</th>\n",
       "        <th>oldest_reportee</th>\n",
       "        <th>manager_birthdate</th>\n",
       "        <th>oldest_reportee_birthdate</th>\n",
       "    </tr>\n",
       "    <tr>\n",
       "        <td>Michael</td>\n",
       "        <td>Robert</td>\n",
       "        <td>1973</td>\n",
       "        <td>1970</td>\n",
       "    </tr>\n",
       "</table>"
      ],
      "text/plain": [
       "[('Michael', 'Robert', '1973', '1970')]"
      ]
     },
     "execution_count": 73,
     "metadata": {},
     "output_type": "execute_result"
    }
   ],
   "source": [
    "%%sql\n",
    "SELECT m.firstname AS boss\n",
    ", e.firstname AS oldest_reportee \n",
    ", STRFTIME('%Y', m.birthdate) AS manager_birthdate \n",
    ", MAX(STRFTIME('%Y', e.birthdate)) AS oldest_reportee_birthdate\n",
    "FROM employees AS m  \n",
    "JOIN employees AS e \n",
    "    ON e.reportsto = m.employeeid \n",
    "GROUP BY e.reportsto\n",
    "HAVING m.birthdate > (e.birthdate)"
   ]
  },
  {
   "cell_type": "code",
   "execution_count": null,
   "id": "320a358a",
   "metadata": {},
   "outputs": [],
   "source": []
  },
  {
   "cell_type": "markdown",
   "id": "589ea3a6",
   "metadata": {},
   "source": [
    "__Write the manager name and total number of customer supported by their direct report__"
   ]
  },
  {
   "cell_type": "code",
   "execution_count": 94,
   "id": "6c279ff3",
   "metadata": {},
   "outputs": [
    {
     "name": "stdout",
     "output_type": "stream",
     "text": [
      " * sqlite:///chinook.db\n",
      "Done.\n"
     ]
    },
    {
     "data": {
      "text/html": [
       "<table>\n",
       "    <tr>\n",
       "        <th>boss</th>\n",
       "        <th>COUNT(c.customerid)</th>\n",
       "    </tr>\n",
       "    <tr>\n",
       "        <td>Nancy</td>\n",
       "        <td>59</td>\n",
       "    </tr>\n",
       "</table>"
      ],
      "text/plain": [
       "[('Nancy', 59)]"
      ]
     },
     "execution_count": 94,
     "metadata": {},
     "output_type": "execute_result"
    }
   ],
   "source": [
    "%%sql\n",
    "SELECT m.firstname AS boss \n",
    ", COUNT(c.customerid)\n",
    "FROM employees AS e \n",
    "JOIN employees AS m \n",
    "    ON e.reportsto = m.employeeid \n",
    "JOIN customers AS c \n",
    "    ON c.supportrepid = e.employeeid \n",
    "GROUP BY e.reportsto "
   ]
  },
  {
   "cell_type": "markdown",
   "id": "f9247bfd",
   "metadata": {},
   "source": [
    "__Show that only Nancy's direct reports deal with customers__"
   ]
  },
  {
   "cell_type": "code",
   "execution_count": 97,
   "id": "a44bc60c",
   "metadata": {},
   "outputs": [
    {
     "name": "stdout",
     "output_type": "stream",
     "text": [
      " * sqlite:///chinook.db\n",
      "Done.\n"
     ]
    },
    {
     "data": {
      "text/html": [
       "<table>\n",
       "    <tr>\n",
       "        <th>FirstName</th>\n",
       "    </tr>\n",
       "    <tr>\n",
       "        <td>Nancy</td>\n",
       "    </tr>\n",
       "</table>"
      ],
      "text/plain": [
       "[('Nancy',)]"
      ]
     },
     "execution_count": 97,
     "metadata": {},
     "output_type": "execute_result"
    }
   ],
   "source": [
    "%%sql\n",
    "SELECT DISTINCT m.firstname\n",
    "FROM employees AS e \n",
    "JOIN employees AS m \n",
    "    ON e.reportsto = m.employeeid \n",
    "WHERE e.employeeid IN (\n",
    "    SELECT DISTINCT supportrepid FROM customers\n",
    ")"
   ]
  },
  {
   "cell_type": "code",
   "execution_count": null,
   "id": "6b6f4f5a",
   "metadata": {},
   "outputs": [],
   "source": []
  }
 ],
 "metadata": {
  "kernelspec": {
   "display_name": "Python 3 (ipykernel)",
   "language": "python",
   "name": "python3"
  },
  "language_info": {
   "codemirror_mode": {
    "name": "ipython",
    "version": 3
   },
   "file_extension": ".py",
   "mimetype": "text/x-python",
   "name": "python",
   "nbconvert_exporter": "python",
   "pygments_lexer": "ipython3",
   "version": "3.8.16"
  }
 },
 "nbformat": 4,
 "nbformat_minor": 5
}
